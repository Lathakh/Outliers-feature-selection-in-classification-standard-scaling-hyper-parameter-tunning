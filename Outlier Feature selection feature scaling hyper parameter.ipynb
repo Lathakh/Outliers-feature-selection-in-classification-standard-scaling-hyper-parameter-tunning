{
 "cells": [
  {
   "cell_type": "markdown",
   "metadata": {},
   "source": [
    " Outliers \n",
    "feature selection in classification\n",
    "standard scaling\n",
    "hyper parameter tunning\n"
   ]
  },
  {
   "cell_type": "code",
   "execution_count": 1,
   "metadata": {},
   "outputs": [],
   "source": [
    "import numpy as np\n",
    "import pandas as pd\n",
    "import matplotlib.pyplot as plt\n",
    "import seaborn as sns"
   ]
  },
  {
   "cell_type": "code",
   "execution_count": 17,
   "metadata": {},
   "outputs": [
    {
     "data": {
      "text/html": [
       "<div>\n",
       "<style scoped>\n",
       "    .dataframe tbody tr th:only-of-type {\n",
       "        vertical-align: middle;\n",
       "    }\n",
       "\n",
       "    .dataframe tbody tr th {\n",
       "        vertical-align: top;\n",
       "    }\n",
       "\n",
       "    .dataframe thead th {\n",
       "        text-align: right;\n",
       "    }\n",
       "</style>\n",
       "<table border=\"1\" class=\"dataframe\">\n",
       "  <thead>\n",
       "    <tr style=\"text-align: right;\">\n",
       "      <th></th>\n",
       "      <th>User ID</th>\n",
       "      <th>Gender</th>\n",
       "      <th>Age</th>\n",
       "      <th>EstimatedSalary</th>\n",
       "      <th>Purchased</th>\n",
       "    </tr>\n",
       "  </thead>\n",
       "  <tbody>\n",
       "    <tr>\n",
       "      <th>0</th>\n",
       "      <td>15624510</td>\n",
       "      <td>Male</td>\n",
       "      <td>19</td>\n",
       "      <td>19000</td>\n",
       "      <td>0</td>\n",
       "    </tr>\n",
       "    <tr>\n",
       "      <th>1</th>\n",
       "      <td>15810944</td>\n",
       "      <td>Male</td>\n",
       "      <td>35</td>\n",
       "      <td>20000</td>\n",
       "      <td>0</td>\n",
       "    </tr>\n",
       "    <tr>\n",
       "      <th>2</th>\n",
       "      <td>15668575</td>\n",
       "      <td>Female</td>\n",
       "      <td>26</td>\n",
       "      <td>43000</td>\n",
       "      <td>0</td>\n",
       "    </tr>\n",
       "    <tr>\n",
       "      <th>3</th>\n",
       "      <td>15603246</td>\n",
       "      <td>Female</td>\n",
       "      <td>127</td>\n",
       "      <td>57000</td>\n",
       "      <td>0</td>\n",
       "    </tr>\n",
       "    <tr>\n",
       "      <th>4</th>\n",
       "      <td>15804002</td>\n",
       "      <td>Male</td>\n",
       "      <td>19</td>\n",
       "      <td>76000</td>\n",
       "      <td>0</td>\n",
       "    </tr>\n",
       "  </tbody>\n",
       "</table>\n",
       "</div>"
      ],
      "text/plain": [
       "    User ID  Gender  Age  EstimatedSalary  Purchased\n",
       "0  15624510    Male   19            19000          0\n",
       "1  15810944    Male   35            20000          0\n",
       "2  15668575  Female   26            43000          0\n",
       "3  15603246  Female  127            57000          0\n",
       "4  15804002    Male   19            76000          0"
      ]
     },
     "execution_count": 17,
     "metadata": {},
     "output_type": "execute_result"
    }
   ],
   "source": [
    "data=pd.read_csv(\"Social_Network_Ads.csv\")\n",
    "\n",
    "data.head()"
   ]
  },
  {
   "cell_type": "code",
   "execution_count": 18,
   "metadata": {},
   "outputs": [
    {
     "data": {
      "text/plain": [
       "(array([190., 177.,  30.,   0.,   0.,   0.,   1.,   1.,   0.,   1.]),\n",
       " array([ 18. ,  36.1,  54.2,  72.3,  90.4, 108.5, 126.6, 144.7, 162.8,\n",
       "        180.9, 199. ]),\n",
       " <BarContainer object of 10 artists>)"
      ]
     },
     "execution_count": 18,
     "metadata": {},
     "output_type": "execute_result"
    },
    {
     "data": {
      "image/png": "[encoded data removed]",
      "text/plain": [
       "<Figure size 432x288 with 1 Axes>"
      ]
     },
     "metadata": {
      "needs_background": "light"
     },
     "output_type": "display_data"
    }
   ],
   "source": [
    "plt.hist(data['Age'])"
   ]
  },
  {
   "cell_type": "markdown",
   "metadata": {},
   "source": [
    "#### Outlier"
   ]
  },
  {
   "cell_type": "raw",
   "metadata": {},
   "source": [
    "graphs use for finding the outliers \n",
    "scatter plot\n",
    "boxplot plot\n",
    "\n",
    "handling the outlier \n",
    "\n",
    "IQR( Inter quantile range)\n",
    "z score"
   ]
  },
  {
   "cell_type": "code",
   "execution_count": 3,
   "metadata": {},
   "outputs": [
    {
     "name": "stderr",
     "output_type": "stream",
     "text": [
      "C:\\Users\\HP\\Anaconda3\\envs\\cricket\\lib\\site-packages\\seaborn\\_decorators.py:36: FutureWarning: Pass the following variables as keyword args: x, y. From version 0.12, the only valid positional argument will be `data`, and passing other arguments without an explicit keyword will result in an error or misinterpretation.\n",
      "  warnings.warn(\n"
     ]
    },
    {
     "data": {
      "text/plain": [
       "<AxesSubplot:ylabel='Age'>"
      ]
     },
     "execution_count": 3,
     "metadata": {},
     "output_type": "execute_result"
    },
    {
     "data": {
      "image/png": "[encoded data removed]",
      "text/plain": [
       "<Figure size 432x288 with 1 Axes>"
      ]
     },
     "metadata": {
      "needs_background": "light"
     },
     "output_type": "display_data"
    }
   ],
   "source": [
    "#plt.scatter(data.index,data['Age'])\n",
    "sns.scatterplot(data.index,data['Age'])"
   ]
  },
  {
   "cell_type": "code",
   "execution_count": 4,
   "metadata": {},
   "outputs": [
    {
     "name": "stderr",
     "output_type": "stream",
     "text": [
      "C:\\Users\\HP\\Anaconda3\\envs\\cricket\\lib\\site-packages\\seaborn\\_decorators.py:36: FutureWarning: Pass the following variable as a keyword arg: x. From version 0.12, the only valid positional argument will be `data`, and passing other arguments without an explicit keyword will result in an error or misinterpretation.\n",
      "  warnings.warn(\n"
     ]
    },
    {
     "data": {
      "text/plain": [
       "<AxesSubplot:xlabel='Age'>"
      ]
     },
     "execution_count": 4,
     "metadata": {},
     "output_type": "execute_result"
    },
    {
     "data": {
      "image/png": "[encoded data removed]",
      "text/plain": [
       "<Figure size 432x288 with 1 Axes>"
      ]
     },
     "metadata": {
      "needs_background": "light"
     },
     "output_type": "display_data"
    }
   ],
   "source": [
    "sns.boxplot(data['Age'])"
   ]
  },
  {
   "cell_type": "code",
   "execution_count": 5,
   "metadata": {},
   "outputs": [
    {
     "data": {
      "text/plain": [
       "count    400.0000\n",
       "mean      38.4350\n",
       "std       14.9007\n",
       "min       18.0000\n",
       "25%       29.7500\n",
       "50%       37.0000\n",
       "75%       46.0000\n",
       "max      199.0000\n",
       "Name: Age, dtype: float64"
      ]
     },
     "execution_count": 5,
     "metadata": {},
     "output_type": "execute_result"
    }
   ],
   "source": [
    "data['Age'].describe()"
   ]
  },
  {
   "cell_type": "markdown",
   "metadata": {},
   "source": [
    "#### IQR"
   ]
  },
  {
   "cell_type": "code",
   "execution_count": 28,
   "metadata": {},
   "outputs": [
    {
     "name": "stdout",
     "output_type": "stream",
     "text": [
      "29.75 46.0\n"
     ]
    }
   ],
   "source": [
    "q1,q3=np.percentile(data['Age'],[25,75])\n",
    "print(q1,q3)"
   ]
  },
  {
   "cell_type": "code",
   "execution_count": 29,
   "metadata": {},
   "outputs": [],
   "source": [
    "iqr= q3 - q1"
   ]
  },
  {
   "cell_type": "code",
   "execution_count": 30,
   "metadata": {},
   "outputs": [
    {
     "name": "stdout",
     "output_type": "stream",
     "text": [
      "5.375 70.375\n"
     ]
    }
   ],
   "source": [
    "lb= q1 - (1.5 * iqr)\n",
    "ub= q3 + (1.5 * iqr)\n",
    "print(lb,ub)"
   ]
  },
  {
   "cell_type": "code",
   "execution_count": 31,
   "metadata": {},
   "outputs": [
    {
     "data": {
      "text/plain": [
       "(400, 5)"
      ]
     },
     "execution_count": 31,
     "metadata": {},
     "output_type": "execute_result"
    }
   ],
   "source": [
    "data.shape"
   ]
  },
  {
   "cell_type": "code",
   "execution_count": 32,
   "metadata": {},
   "outputs": [],
   "source": [
    "data=data.loc[data['Age']>lb][data['Age']<ub]"
   ]
  },
  {
   "cell_type": "markdown",
   "metadata": {},
   "source": [
    "#### z-score method"
   ]
  },
  {
   "cell_type": "code",
   "execution_count": 16,
   "metadata": {},
   "outputs": [
    {
     "data": {
      "text/plain": [
       "(array([29., 37., 45., 35., 77., 65., 34., 30., 18., 27.]),\n",
       " array([18. , 22.2, 26.4, 30.6, 34.8, 39. , 43.2, 47.4, 51.6, 55.8, 60. ]),\n",
       " <BarContainer object of 10 artists>)"
      ]
     },
     "execution_count": 16,
     "metadata": {},
     "output_type": "execute_result"
    },
    {
     "data": {
      "image/png": "[encoded data removed]",
      "text/plain": [
       "<Figure size 432x288 with 1 Axes>"
      ]
     },
     "metadata": {
      "needs_background": "light"
     },
     "output_type": "display_data"
    }
   ],
   "source": [
    "plt.hist(data['Age'])"
   ]
  },
  {
   "cell_type": "code",
   "execution_count": null,
   "metadata": {},
   "outputs": [],
   "source": [
    "z = x - mean / SD"
   ]
  },
  {
   "cell_type": "code",
   "execution_count": 23,
   "metadata": {},
   "outputs": [],
   "source": [
    "out=[] # getting all the outliers\n",
    "def outliers(data):\n",
    "    threshold=3 # indicates 3 SD\n",
    "    mean= np.mean(data) # calculating mean\n",
    "    std= np.std(data) # calculating SD\n",
    "    \n",
    "    for i in data: # looping to all age points\n",
    "        z_score = (i - mean)/ std # z_score\n",
    "        if np.abs(z_score)>threshold: # checking whether it is falling in 3 SD\n",
    "            out.append(i) # adding the outliers\n",
    "    return out"
   ]
  },
  {
   "cell_type": "code",
   "execution_count": 24,
   "metadata": {},
   "outputs": [],
   "source": [
    "out=outliers(data['Age'])"
   ]
  },
  {
   "cell_type": "code",
   "execution_count": 25,
   "metadata": {},
   "outputs": [
    {
     "data": {
      "text/plain": [
       "[127, 145, 199]"
      ]
     },
     "execution_count": 25,
     "metadata": {},
     "output_type": "execute_result"
    }
   ],
   "source": [
    "out"
   ]
  },
  {
   "cell_type": "code",
   "execution_count": 33,
   "metadata": {},
   "outputs": [
    {
     "data": {
      "text/plain": [
       "(397, 5)"
      ]
     },
     "execution_count": 33,
     "metadata": {},
     "output_type": "execute_result"
    }
   ],
   "source": [
    "data.shape"
   ]
  },
  {
   "cell_type": "code",
   "execution_count": 34,
   "metadata": {},
   "outputs": [
    {
     "data": {
      "text/html": [
       "<div>\n",
       "<style scoped>\n",
       "    .dataframe tbody tr th:only-of-type {\n",
       "        vertical-align: middle;\n",
       "    }\n",
       "\n",
       "    .dataframe tbody tr th {\n",
       "        vertical-align: top;\n",
       "    }\n",
       "\n",
       "    .dataframe thead th {\n",
       "        text-align: right;\n",
       "    }\n",
       "</style>\n",
       "<table border=\"1\" class=\"dataframe\">\n",
       "  <thead>\n",
       "    <tr style=\"text-align: right;\">\n",
       "      <th></th>\n",
       "      <th>User ID</th>\n",
       "      <th>Gender</th>\n",
       "      <th>Age</th>\n",
       "      <th>EstimatedSalary</th>\n",
       "      <th>Purchased</th>\n",
       "    </tr>\n",
       "  </thead>\n",
       "  <tbody>\n",
       "    <tr>\n",
       "      <th>0</th>\n",
       "      <td>15624510</td>\n",
       "      <td>Male</td>\n",
       "      <td>19</td>\n",
       "      <td>19000</td>\n",
       "      <td>0</td>\n",
       "    </tr>\n",
       "    <tr>\n",
       "      <th>1</th>\n",
       "      <td>15810944</td>\n",
       "      <td>Male</td>\n",
       "      <td>35</td>\n",
       "      <td>20000</td>\n",
       "      <td>0</td>\n",
       "    </tr>\n",
       "    <tr>\n",
       "      <th>2</th>\n",
       "      <td>15668575</td>\n",
       "      <td>Female</td>\n",
       "      <td>26</td>\n",
       "      <td>43000</td>\n",
       "      <td>0</td>\n",
       "    </tr>\n",
       "    <tr>\n",
       "      <th>4</th>\n",
       "      <td>15804002</td>\n",
       "      <td>Male</td>\n",
       "      <td>19</td>\n",
       "      <td>76000</td>\n",
       "      <td>0</td>\n",
       "    </tr>\n",
       "    <tr>\n",
       "      <th>5</th>\n",
       "      <td>15728773</td>\n",
       "      <td>Male</td>\n",
       "      <td>27</td>\n",
       "      <td>58000</td>\n",
       "      <td>0</td>\n",
       "    </tr>\n",
       "  </tbody>\n",
       "</table>\n",
       "</div>"
      ],
      "text/plain": [
       "    User ID  Gender  Age  EstimatedSalary  Purchased\n",
       "0  15624510    Male   19            19000          0\n",
       "1  15810944    Male   35            20000          0\n",
       "2  15668575  Female   26            43000          0\n",
       "4  15804002    Male   19            76000          0\n",
       "5  15728773    Male   27            58000          0"
      ]
     },
     "execution_count": 34,
     "metadata": {},
     "output_type": "execute_result"
    }
   ],
   "source": [
    "data.head()"
   ]
  },
  {
   "cell_type": "code",
   "execution_count": 35,
   "metadata": {},
   "outputs": [],
   "source": [
    "from sklearn.preprocessing import LabelEncoder\n",
    "le=LabelEncoder()\n",
    "data['Gender']=le.fit_transform(data['Gender'])"
   ]
  },
  {
   "cell_type": "code",
   "execution_count": 36,
   "metadata": {},
   "outputs": [],
   "source": [
    "x=data.iloc[:,[1,2,3]]\n",
    "y=data.iloc[:,[4]]"
   ]
  },
  {
   "cell_type": "code",
   "execution_count": 37,
   "metadata": {},
   "outputs": [
    {
     "name": "stdout",
     "output_type": "stream",
     "text": [
      "(317, 3)\n",
      "(317, 1)\n",
      "(80, 3)\n",
      "(80, 1)\n"
     ]
    }
   ],
   "source": [
    "from sklearn.model_selection import train_test_split\n",
    "x_train,x_test,y_train,y_test=train_test_split(x,y,test_size=0.2,random_state=0)\n",
    "print(x_train.shape)\n",
    "print(y_train.shape)\n",
    "print(x_test.shape)\n",
    "print(y_test.shape)"
   ]
  },
  {
   "cell_type": "markdown",
   "metadata": {},
   "source": [
    "#### feature selection in classification"
   ]
  },
  {
   "cell_type": "code",
   "execution_count": 39,
   "metadata": {},
   "outputs": [
    {
     "name": "stderr",
     "output_type": "stream",
     "text": [
      "C:\\Users\\HP\\Anaconda3\\envs\\cricket\\lib\\site-packages\\sklearn\\utils\\validation.py:63: DataConversionWarning: A column-vector y was passed when a 1d array was expected. Please change the shape of y to (n_samples, ), for example using ravel().\n",
      "  return f(*args, **kwargs)\n"
     ]
    },
    {
     "data": {
      "text/plain": [
       "array([0.04647396, 0.27589524, 0.23271719])"
      ]
     },
     "execution_count": 39,
     "metadata": {},
     "output_type": "execute_result"
    }
   ],
   "source": [
    "from sklearn.feature_selection import mutual_info_classif, mutual_info_reg\n",
    "mi=mutual_info_classif(x_train,y_train)\n",
    "mi"
   ]
  },
  {
   "cell_type": "code",
   "execution_count": 40,
   "metadata": {},
   "outputs": [
    {
     "data": {
      "text/plain": [
       "Age                0.275895\n",
       "EstimatedSalary    0.232717\n",
       "Gender             0.046474\n",
       "dtype: float64"
      ]
     },
     "execution_count": 40,
     "metadata": {},
     "output_type": "execute_result"
    }
   ],
   "source": [
    "MI=pd.Series(mi)\n",
    "MI.index=x_train.columns\n",
    "MI.sort_values(ascending=False)"
   ]
  },
  {
   "cell_type": "code",
   "execution_count": 41,
   "metadata": {},
   "outputs": [
    {
     "name": "stderr",
     "output_type": "stream",
     "text": [
      "C:\\Users\\HP\\Anaconda3\\envs\\cricket\\lib\\site-packages\\seaborn\\_decorators.py:36: FutureWarning: Pass the following variables as keyword args: x, y. From version 0.12, the only valid positional argument will be `data`, and passing other arguments without an explicit keyword will result in an error or misinterpretation.\n",
      "  warnings.warn(\n"
     ]
    },
    {
     "data": {
      "text/plain": [
       "<AxesSubplot:xlabel='Purchased', ylabel='Age'>"
      ]
     },
     "execution_count": 41,
     "metadata": {},
     "output_type": "execute_result"
    },
    {
     "data": {
      "image/png": "[encoded data removed]",
      "text/plain": [
       "<Figure size 432x288 with 1 Axes>"
      ]
     },
     "metadata": {
      "needs_background": "light"
     },
     "output_type": "display_data"
    }
   ],
   "source": [
    "sns.boxplot(data['Purchased'],data['Age'])"
   ]
  },
  {
   "cell_type": "code",
   "execution_count": 42,
   "metadata": {},
   "outputs": [
    {
     "name": "stderr",
     "output_type": "stream",
     "text": [
      "C:\\Users\\HP\\Anaconda3\\envs\\cricket\\lib\\site-packages\\seaborn\\_decorators.py:36: FutureWarning: Pass the following variables as keyword args: x, y. From version 0.12, the only valid positional argument will be `data`, and passing other arguments without an explicit keyword will result in an error or misinterpretation.\n",
      "  warnings.warn(\n"
     ]
    },
    {
     "data": {
      "text/plain": [
       "<AxesSubplot:ylabel='EstimatedSalary'>"
      ]
     },
     "execution_count": 42,
     "metadata": {},
     "output_type": "execute_result"
    },
    {
     "data": {
      "image/png": "[encoded data removed]",
      "text/plain": [
       "<Figure size 432x288 with 1 Axes>"
      ]
     },
     "metadata": {
      "needs_background": "light"
     },
     "output_type": "display_data"
    }
   ],
   "source": [
    "sns.scatterplot(data.index,data['EstimatedSalary'],hue=data['Purchased'])"
   ]
  },
  {
   "cell_type": "code",
   "execution_count": 43,
   "metadata": {},
   "outputs": [
    {
     "name": "stderr",
     "output_type": "stream",
     "text": [
      "C:\\Users\\HP\\Anaconda3\\envs\\cricket\\lib\\site-packages\\seaborn\\_decorators.py:36: FutureWarning: Pass the following variable as a keyword arg: x. From version 0.12, the only valid positional argument will be `data`, and passing other arguments without an explicit keyword will result in an error or misinterpretation.\n",
      "  warnings.warn(\n"
     ]
    },
    {
     "data": {
      "text/plain": [
       "<AxesSubplot:xlabel='Purchased', ylabel='count'>"
      ]
     },
     "execution_count": 43,
     "metadata": {},
     "output_type": "execute_result"
    },
    {
     "data": {
      "image/png": "[encoded data removed]",
      "text/plain": [
       "<Figure size 432x288 with 1 Axes>"
      ]
     },
     "metadata": {
      "needs_background": "light"
     },
     "output_type": "display_data"
    }
   ],
   "source": [
    "sns.countplot(data['Purchased'],hue=data['Gender'])"
   ]
  },
  {
   "cell_type": "markdown",
   "metadata": {},
   "source": [
    "#### Groupby"
   ]
  },
  {
   "cell_type": "code",
   "execution_count": 44,
   "metadata": {},
   "outputs": [
    {
     "data": {
      "text/html": [
       "<div>\n",
       "<style scoped>\n",
       "    .dataframe tbody tr th:only-of-type {\n",
       "        vertical-align: middle;\n",
       "    }\n",
       "\n",
       "    .dataframe tbody tr th {\n",
       "        vertical-align: top;\n",
       "    }\n",
       "\n",
       "    .dataframe thead th {\n",
       "        text-align: right;\n",
       "    }\n",
       "</style>\n",
       "<table border=\"1\" class=\"dataframe\">\n",
       "  <thead>\n",
       "    <tr style=\"text-align: right;\">\n",
       "      <th></th>\n",
       "      <th>Purchased</th>\n",
       "    </tr>\n",
       "    <tr>\n",
       "      <th>Gender</th>\n",
       "      <th></th>\n",
       "    </tr>\n",
       "  </thead>\n",
       "  <tbody>\n",
       "    <tr>\n",
       "      <th>0</th>\n",
       "      <td>0.376238</td>\n",
       "    </tr>\n",
       "    <tr>\n",
       "      <th>1</th>\n",
       "      <td>0.333333</td>\n",
       "    </tr>\n",
       "  </tbody>\n",
       "</table>\n",
       "</div>"
      ],
      "text/plain": [
       "        Purchased\n",
       "Gender           \n",
       "0        0.376238\n",
       "1        0.333333"
      ]
     },
     "execution_count": 44,
     "metadata": {},
     "output_type": "execute_result"
    }
   ],
   "source": [
    "data[['Gender','Purchased']].groupby('Gender').mean()"
   ]
  },
  {
   "cell_type": "markdown",
   "metadata": {},
   "source": [
    "#### Feature scaling"
   ]
  },
  {
   "cell_type": "code",
   "execution_count": 46,
   "metadata": {},
   "outputs": [
    {
     "data": {
      "text/html": [
       "<div>\n",
       "<style scoped>\n",
       "    .dataframe tbody tr th:only-of-type {\n",
       "        vertical-align: middle;\n",
       "    }\n",
       "\n",
       "    .dataframe tbody tr th {\n",
       "        vertical-align: top;\n",
       "    }\n",
       "\n",
       "    .dataframe thead th {\n",
       "        text-align: right;\n",
       "    }\n",
       "</style>\n",
       "<table border=\"1\" class=\"dataframe\">\n",
       "  <thead>\n",
       "    <tr style=\"text-align: right;\">\n",
       "      <th></th>\n",
       "      <th>Gender</th>\n",
       "      <th>Age</th>\n",
       "      <th>EstimatedSalary</th>\n",
       "    </tr>\n",
       "  </thead>\n",
       "  <tbody>\n",
       "    <tr>\n",
       "      <th>66</th>\n",
       "      <td>1</td>\n",
       "      <td>24</td>\n",
       "      <td>19000</td>\n",
       "    </tr>\n",
       "    <tr>\n",
       "      <th>57</th>\n",
       "      <td>1</td>\n",
       "      <td>28</td>\n",
       "      <td>79000</td>\n",
       "    </tr>\n",
       "    <tr>\n",
       "      <th>318</th>\n",
       "      <td>1</td>\n",
       "      <td>45</td>\n",
       "      <td>32000</td>\n",
       "    </tr>\n",
       "    <tr>\n",
       "      <th>104</th>\n",
       "      <td>0</td>\n",
       "      <td>19</td>\n",
       "      <td>21000</td>\n",
       "    </tr>\n",
       "    <tr>\n",
       "      <th>263</th>\n",
       "      <td>0</td>\n",
       "      <td>35</td>\n",
       "      <td>72000</td>\n",
       "    </tr>\n",
       "  </tbody>\n",
       "</table>\n",
       "</div>"
      ],
      "text/plain": [
       "     Gender  Age  EstimatedSalary\n",
       "66        1   24            19000\n",
       "57        1   28            79000\n",
       "318       1   45            32000\n",
       "104       0   19            21000\n",
       "263       0   35            72000"
      ]
     },
     "execution_count": 46,
     "metadata": {},
     "output_type": "execute_result"
    }
   ],
   "source": [
    "x_train.head()"
   ]
  },
  {
   "cell_type": "code",
   "execution_count": 49,
   "metadata": {},
   "outputs": [
    {
     "data": {
      "text/plain": [
       "array([[1.        , 0.14285714, 0.02962963],\n",
       "       [1.        , 0.23809524, 0.47407407],\n",
       "       [1.        , 0.64285714, 0.12592593],\n",
       "       [0.        , 0.02380952, 0.04444444],\n",
       "       [0.        , 0.4047619 , 0.42222222],\n",
       "       [1.        , 0.57142857, 0.37037037],\n",
       "       [0.        , 0.5       , 0.42962963],\n",
       "       [0.        , 0.88095238, 0.81481481],\n",
       "       [0.        , 0.5       , 0.88148148],\n",
       "       [0.        , 0.95238095, 0.05925926],\n",
       "       [1.        , 0.0952381 , 0.02222222],\n",
       "       [0.        , 0.4047619 , 0.37037037],\n",
       "       [1.        , 0.57142857, 0.42962963],\n",
       "       [0.        , 0.21428571, 0.6       ],\n",
       "       [1.        , 0.42857143, 0.76296296],\n",
       "       [0.        , 0.9047619 , 0.65925926],\n",
       "       [1.        , 0.97619048, 0.85185185],\n",
       "       [1.        , 0.26190476, 0.34074074],\n",
       "       [0.        , 0.4047619 , 0.60740741],\n",
       "       [1.        , 0.14285714, 0.31851852],\n",
       "       [0.        , 0.80952381, 0.55555556],\n",
       "       [0.        , 0.92857143, 0.79259259],\n",
       "       [0.        , 0.80952381, 0.04444444],\n",
       "       [1.        , 0.4047619 , 0.54074074],\n",
       "       [1.        , 0.5       , 0.45925926],\n",
       "       [0.        , 0.71428571, 0.88148148],\n",
       "       [0.        , 0.45238095, 0.57777778],\n",
       "       [1.        , 0.4047619 , 0.42962963],\n",
       "       [0.        , 0.28571429, 0.74814815],\n",
       "       [0.        , 0.52380952, 0.33333333],\n",
       "       [0.        , 0.64285714, 0.05185185],\n",
       "       [1.        , 0.4047619 , 0.42222222],\n",
       "       [1.        , 0.73809524, 0.52592593],\n",
       "       [1.        , 0.57142857, 0.65925926],\n",
       "       [0.        , 0.        , 0.21481481],\n",
       "       [0.        , 0.45238095, 0.48148148],\n",
       "       [0.        , 0.95238095, 0.17037037],\n",
       "       [0.        , 0.26190476, 0.5037037 ],\n",
       "       [1.        , 0.45238095, 0.95555556],\n",
       "       [1.        , 0.9047619 , 0.87407407],\n",
       "       [1.        , 0.5       , 0.2       ],\n",
       "       [0.        , 0.30952381, 0.41481481],\n",
       "       [1.        , 0.4047619 , 0.32592593],\n",
       "       [1.        , 0.66666667, 0.05925926],\n",
       "       [1.        , 0.45238095, 0.27407407],\n",
       "       [1.        , 0.26190476, 0.44444444],\n",
       "       [1.        , 0.95238095, 0.95555556],\n",
       "       [0.        , 0.64285714, 0.22222222],\n",
       "       [0.        , 0.54761905, 0.42222222],\n",
       "       [0.        , 0.66666667, 0.19259259],\n",
       "       [0.        , 0.0952381 , 0.35555556],\n",
       "       [1.        , 0.57142857, 0.28888889],\n",
       "       [0.        , 0.47619048, 0.25925926],\n",
       "       [0.        , 0.35714286, 0.99259259],\n",
       "       [1.        , 0.5       , 0.6       ],\n",
       "       [1.        , 0.02380952, 0.40740741],\n",
       "       [0.        , 0.5       , 0.32592593],\n",
       "       [1.        , 0.66666667, 0.0962963 ],\n",
       "       [0.        , 0.47619048, 0.71851852],\n",
       "       [1.        , 0.47619048, 0.34074074],\n",
       "       [0.        , 0.07142857, 0.00740741],\n",
       "       [1.        , 0.4047619 , 0.44444444],\n",
       "       [1.        , 0.30952381, 0.45185185],\n",
       "       [1.        , 0.07142857, 0.42222222],\n",
       "       [1.        , 0.19047619, 0.48148148],\n",
       "       [1.        , 0.5       , 0.41481481],\n",
       "       [1.        , 0.33333333, 0.62962963],\n",
       "       [1.        , 0.52380952, 0.32592593],\n",
       "       [0.        , 0.69047619, 0.68148148],\n",
       "       [0.        , 0.52380952, 0.44444444],\n",
       "       [0.        , 0.42857143, 0.82222222],\n",
       "       [1.        , 0.57142857, 0.48148148],\n",
       "       [1.        , 0.69047619, 0.20740741],\n",
       "       [0.        , 0.23809524, 0.32592593],\n",
       "       [1.        , 0.4047619 , 0.44444444],\n",
       "       [1.        , 0.28571429, 0.01481481],\n",
       "       [0.        , 0.35714286, 0.4       ],\n",
       "       [1.        , 0.66666667, 0.75555556],\n",
       "       [0.        , 0.5       , 0.44444444],\n",
       "       [1.        , 0.11904762, 0.35555556],\n",
       "       [1.        , 0.4047619 , 0.08888889],\n",
       "       [0.        , 0.57142857, 0.28148148],\n",
       "       [0.        , 0.35714286, 0.0962963 ],\n",
       "       [0.        , 0.97619048, 0.2       ],\n",
       "       [0.        , 0.23809524, 0.16296296],\n",
       "       [0.        , 0.23809524, 0.51851852],\n",
       "       [1.        , 0.33333333, 0.77777778],\n",
       "       [0.        , 0.26190476, 0.23703704],\n",
       "       [1.        , 0.26190476, 0.20740741],\n",
       "       [0.        , 0.45238095, 0.31111111],\n",
       "       [1.        , 0.71428571, 0.13333333],\n",
       "       [0.        , 0.45238095, 0.46666667],\n",
       "       [0.        , 0.52380952, 0.94074074],\n",
       "       [0.        , 0.5       , 0.41481481],\n",
       "       [1.        , 0.28571429, 0.88888889],\n",
       "       [0.        , 0.80952381, 0.91111111],\n",
       "       [0.        , 0.71428571, 0.85925926],\n",
       "       [1.        , 1.        , 0.64444444],\n",
       "       [1.        , 0.38095238, 0.71851852],\n",
       "       [1.        , 0.02380952, 0.07407407],\n",
       "       [1.        , 0.57142857, 0.36296296],\n",
       "       [0.        , 0.54761905, 0.42222222],\n",
       "       [1.        , 0.97619048, 0.94814815],\n",
       "       [0.        , 0.21428571, 0.9037037 ],\n",
       "       [1.        , 0.35714286, 0.20740741],\n",
       "       [1.        , 0.54761905, 0.47407407],\n",
       "       [0.        , 0.97619048, 0.45185185],\n",
       "       [0.        , 0.4047619 , 0.05925926],\n",
       "       [0.        , 0.57142857, 0.44444444],\n",
       "       [1.        , 0.45238095, 0.44444444],\n",
       "       [1.        , 0.30952381, 0.02222222],\n",
       "       [0.        , 0.19047619, 0.20740741],\n",
       "       [1.        , 0.73809524, 0.37037037],\n",
       "       [1.        , 0.19047619, 0.11111111],\n",
       "       [0.        , 0.69047619, 0.25925926],\n",
       "       [0.        , 0.66666667, 0.12592593],\n",
       "       [0.        , 0.54761905, 0.48148148],\n",
       "       [1.        , 0.02380952, 0.51851852],\n",
       "       [1.        , 0.66666667, 0.47407407],\n",
       "       [0.        , 0.66666667, 0.6       ],\n",
       "       [0.        , 0.92857143, 0.08148148],\n",
       "       [0.        , 0.80952381, 0.17037037],\n",
       "       [0.        , 0.47619048, 0.25925926],\n",
       "       [0.        , 0.66666667, 0.4962963 ],\n",
       "       [1.        , 0.28571429, 0.25185185],\n",
       "       [0.        , 0.88095238, 0.85185185],\n",
       "       [0.        , 0.57142857, 0.68888889],\n",
       "       [0.        , 0.30952381, 0.39259259],\n",
       "       [1.        , 0.73809524, 0.0962963 ],\n",
       "       [1.        , 0.52380952, 0.41481481],\n",
       "       [1.        , 0.16666667, 0.47407407],\n",
       "       [1.        , 0.57142857, 0.99259259],\n",
       "       [1.        , 0.35714286, 0.11851852],\n",
       "       [0.        , 0.4047619 , 0.21481481],\n",
       "       [1.        , 0.45238095, 0.2962963 ],\n",
       "       [1.        , 0.26190476, 0.98518519],\n",
       "       [1.        , 0.73809524, 0.54074074],\n",
       "       [0.        , 0.5       , 0.47407407],\n",
       "       [1.        , 0.5       , 0.67407407],\n",
       "       [1.        , 0.4047619 , 0.68888889],\n",
       "       [0.        , 0.71428571, 0.1037037 ],\n",
       "       [1.        , 0.71428571, 0.93333333],\n",
       "       [1.        , 0.5       , 0.2       ],\n",
       "       [1.        , 0.54761905, 0.27407407],\n",
       "       [1.        , 0.52380952, 0.44444444],\n",
       "       [0.        , 0.35714286, 0.72592593],\n",
       "       [1.        , 0.        , 0.4962963 ],\n",
       "       [0.        , 0.95238095, 0.23703704],\n",
       "       [0.        , 1.        , 0.68888889],\n",
       "       [0.        , 0.92857143, 0.13333333],\n",
       "       [1.        , 0.47619048, 0.32592593],\n",
       "       [0.        , 0.4047619 , 0.97777778],\n",
       "       [0.        , 0.45238095, 0.13333333],\n",
       "       [0.        , 0.19047619, 0.14814815],\n",
       "       [1.        , 0.4047619 , 0.17037037],\n",
       "       [0.        , 0.30952381, 0.76296296],\n",
       "       [0.        , 0.02380952, 0.08148148],\n",
       "       [1.        , 0.78571429, 0.05925926],\n",
       "       [0.        , 0.42857143, 0.44444444],\n",
       "       [1.        , 0.0952381 , 0.2       ],\n",
       "       [1.        , 0.14285714, 0.51111111],\n",
       "       [0.        , 0.71428571, 0.6       ],\n",
       "       [0.        , 0.45238095, 0.48148148],\n",
       "       [1.        , 0.47619048, 0.34074074],\n",
       "       [1.        , 0.54761905, 0.22222222],\n",
       "       [0.        , 0.33333333, 0.88888889],\n",
       "       [1.        , 0.52380952, 0.23703704],\n",
       "       [1.        , 0.64285714, 0.08148148],\n",
       "       [0.        , 0.71428571, 0.77037037],\n",
       "       [0.        , 0.0952381 , 0.08888889],\n",
       "       [0.        , 0.45238095, 0.41481481],\n",
       "       [1.        , 0.54761905, 0.42222222],\n",
       "       [0.        , 0.80952381, 0.73333333],\n",
       "       [1.        , 0.69047619, 0.14074074],\n",
       "       [0.        , 0.76190476, 0.21481481],\n",
       "       [0.        , 0.        , 0.39259259],\n",
       "       [0.        , 0.83333333, 0.94814815],\n",
       "       [1.        , 0.42857143, 0.33333333],\n",
       "       [0.        , 0.61904762, 0.17777778],\n",
       "       [1.        , 0.42857143, 0.81481481],\n",
       "       [0.        , 0.69047619, 0.25185185],\n",
       "       [0.        , 0.52380952, 0.42222222],\n",
       "       [0.        , 0.78571429, 0.88148148],\n",
       "       [1.        , 0.02380952, 0.45185185],\n",
       "       [1.        , 0.47619048, 0.41481481],\n",
       "       [1.        , 0.19047619, 0.12592593],\n",
       "       [0.        , 0.19047619, 0.01481481],\n",
       "       [0.        , 0.04761905, 0.4962963 ],\n",
       "       [1.        , 0.71428571, 0.43703704],\n",
       "       [1.        , 0.54761905, 0.53333333],\n",
       "       [0.        , 0.54761905, 0.35555556],\n",
       "       [0.        , 0.35714286, 0.33333333],\n",
       "       [1.        , 1.        , 0.14074074],\n",
       "       [1.        , 0.04761905, 0.25185185],\n",
       "       [0.        , 0.4047619 , 0.45925926],\n",
       "       [1.        , 0.04761905, 0.52592593],\n",
       "       [1.        , 0.64285714, 0.47407407],\n",
       "       [1.        , 0.19047619, 0.48888889],\n",
       "       [0.        , 0.69047619, 0.95555556],\n",
       "       [0.        , 0.19047619, 0.42222222],\n",
       "       [1.        , 0.71428571, 0.13333333],\n",
       "       [1.        , 0.21428571, 0.03703704],\n",
       "       [1.        , 0.28571429, 0.        ],\n",
       "       [1.        , 1.        , 0.2       ],\n",
       "       [0.        , 0.26190476, 0.5037037 ],\n",
       "       [1.        , 0.80952381, 1.        ],\n",
       "       [1.        , 0.4047619 , 0.2962963 ],\n",
       "       [0.        , 0.61904762, 0.91851852],\n",
       "       [1.        , 0.47619048, 0.26666667],\n",
       "       [0.        , 0.5       , 0.34074074],\n",
       "       [0.        , 0.4047619 , 0.33333333],\n",
       "       [0.        , 0.97619048, 0.5037037 ],\n",
       "       [0.        , 0.45238095, 0.9037037 ],\n",
       "       [1.        , 0.28571429, 0.53333333],\n",
       "       [1.        , 0.23809524, 0.12592593],\n",
       "       [1.        , 0.69047619, 0.03703704],\n",
       "       [1.        , 0.11904762, 0.03703704],\n",
       "       [1.        , 0.02380952, 0.02962963],\n",
       "       [0.        , 0.54761905, 0.41481481],\n",
       "       [0.        , 0.47619048, 0.2962963 ],\n",
       "       [1.        , 0.21428571, 0.54074074],\n",
       "       [0.        , 0.73809524, 0.17777778],\n",
       "       [1.        , 0.19047619, 0.00740741],\n",
       "       [0.        , 0.95238095, 0.59259259],\n",
       "       [0.        , 0.4047619 , 0.07407407],\n",
       "       [1.        , 0.47619048, 0.41481481],\n",
       "       [1.        , 0.23809524, 0.8       ],\n",
       "       [0.        , 0.47619048, 0.72592593],\n",
       "       [1.        , 0.38095238, 0.74074074],\n",
       "       [0.        , 0.14285714, 0.08888889],\n",
       "       [0.        , 0.69047619, 0.72592593],\n",
       "       [0.        , 0.14285714, 0.12592593],\n",
       "       [0.        , 0.66666667, 0.05185185],\n",
       "       [1.        , 0.4047619 , 0.34074074],\n",
       "       [0.        , 0.57142857, 0.48148148],\n",
       "       [0.        , 0.19047619, 0.        ],\n",
       "       [0.        , 0.14285714, 0.54814815],\n",
       "       [0.        , 0.33333333, 0.75555556],\n",
       "       [0.        , 0.07142857, 0.39259259],\n",
       "       [1.        , 0.85714286, 0.40740741],\n",
       "       [0.        , 0.76190476, 0.03703704],\n",
       "       [1.        , 0.71428571, 0.55555556],\n",
       "       [0.        , 0.69047619, 0.23703704],\n",
       "       [1.        , 0.14285714, 0.2962963 ],\n",
       "       [1.        , 0.4047619 , 0.28148148],\n",
       "       [1.        , 0.69047619, 0.66666667],\n",
       "       [0.        , 0.97619048, 0.1037037 ],\n",
       "       [0.        , 0.26190476, 0.0962963 ],\n",
       "       [0.        , 0.28571429, 0.34814815],\n",
       "       [1.        , 0.52380952, 0.34074074],\n",
       "       [1.        , 0.45238095, 0.42222222],\n",
       "       [1.        , 0.45238095, 0.45925926],\n",
       "       [0.        , 0.33333333, 0.75555556],\n",
       "       [0.        , 0.71428571, 0.11111111],\n",
       "       [0.        , 0.64285714, 0.85925926],\n",
       "       [1.        , 0.42857143, 0.62222222],\n",
       "       [0.        , 0.23809524, 0.51111111],\n",
       "       [1.        , 0.21428571, 0.54814815],\n",
       "       [1.        , 0.66666667, 0.54074074],\n",
       "       [1.        , 0.92857143, 0.43703704],\n",
       "       [0.        , 0.57142857, 0.55555556],\n",
       "       [0.        , 0.21428571, 0.01481481],\n",
       "       [0.        , 0.14285714, 0.2962963 ],\n",
       "       [1.        , 0.83333333, 0.42222222],\n",
       "       [1.        , 0.30952381, 0.31851852],\n",
       "       [1.        , 0.88095238, 0.17777778],\n",
       "       [1.        , 0.30952381, 0.43703704],\n",
       "       [1.        , 0.30952381, 0.37777778],\n",
       "       [0.        , 0.        , 0.52592593],\n",
       "       [0.        , 0.42857143, 0.25925926],\n",
       "       [0.        , 0.4047619 , 0.25925926],\n",
       "       [0.        , 0.95238095, 0.63703704],\n",
       "       [0.        , 0.23809524, 0.21481481],\n",
       "       [1.        , 0.21428571, 0.55555556],\n",
       "       [0.        , 0.19047619, 0.51111111],\n",
       "       [0.        , 0.35714286, 0.19259259],\n",
       "       [1.        , 1.        , 0.5037037 ],\n",
       "       [1.        , 0.5       , 0.88148148],\n",
       "       [1.        , 0.69047619, 0.05925926],\n",
       "       [1.        , 0.04761905, 0.43703704],\n",
       "       [0.        , 0.71428571, 0.91111111],\n",
       "       [0.        , 0.85714286, 0.08148148],\n",
       "       [0.        , 0.30952381, 0.14074074],\n",
       "       [1.        , 0.23809524, 0.32592593],\n",
       "       [0.        , 0.83333333, 0.65925926],\n",
       "       [1.        , 0.4047619 , 0.47407407],\n",
       "       [1.        , 0.4047619 , 0.05185185],\n",
       "       [0.        , 0.78571429, 0.97037037],\n",
       "       [1.        , 0.42857143, 0.27407407],\n",
       "       [1.        , 0.45238095, 0.43703704],\n",
       "       [1.        , 0.33333333, 0.02222222],\n",
       "       [0.        , 0.42857143, 0.28888889],\n",
       "       [0.        , 0.69047619, 0.11111111],\n",
       "       [0.        , 0.4047619 , 0.41481481],\n",
       "       [1.        , 0.5       , 0.79259259],\n",
       "       [1.        , 0.73809524, 0.0962963 ],\n",
       "       [0.        , 0.4047619 , 0.23703704],\n",
       "       [1.        , 0.9047619 , 0.33333333],\n",
       "       [0.        , 0.35714286, 0.26666667],\n",
       "       [1.        , 0.38095238, 0.20740741],\n",
       "       [0.        , 0.85714286, 0.65925926],\n",
       "       [1.        , 0.0952381 , 0.48888889],\n",
       "       [0.        , 0.04761905, 0.05925926],\n",
       "       [1.        , 0.4047619 , 0.25925926],\n",
       "       [0.        , 0.4047619 , 0.31111111],\n",
       "       [0.        , 0.54761905, 0.42222222],\n",
       "       [0.        , 0.76190476, 0.15555556],\n",
       "       [1.        , 0.4047619 , 0.31851852],\n",
       "       [0.        , 0.19047619, 0.48148148],\n",
       "       [0.        , 0.83333333, 0.14074074],\n",
       "       [0.        , 0.04761905, 0.15555556],\n",
       "       [0.        , 0.45238095, 0.97037037],\n",
       "       [0.        , 0.54761905, 0.33333333],\n",
       "       [1.        , 0.23809524, 0.54814815],\n",
       "       [1.        , 0.54761905, 0.32592593],\n",
       "       [0.        , 0.30952381, 0.54814815],\n",
       "       [0.        , 0.38095238, 0.42222222]])"
      ]
     },
     "execution_count": 49,
     "metadata": {},
     "output_type": "execute_result"
    }
   ],
   "source": [
    "from sklearn.preprocessing import StandardScaler,MinMaxScaler\n",
    "ss=StandardScaler()\n",
    "mms=MinMaxScaler()\n",
    "x_train=mms.fit_transform(x_train)\n",
    "x_test=mms.fit_transform(x_test)\n",
    "x_train"
   ]
  },
  {
   "cell_type": "code",
   "execution_count": 51,
   "metadata": {},
   "outputs": [
    {
     "data": {
      "text/plain": [
       "DecisionTreeClassifier()"
      ]
     },
     "execution_count": 51,
     "metadata": {},
     "output_type": "execute_result"
    }
   ],
   "source": [
    "from sklearn.tree import DecisionTreeClassifier\n",
    "dtc=DecisionTreeClassifier()\n",
    "dtc.fit(x_train,y_train)"
   ]
  },
  {
   "cell_type": "code",
   "execution_count": 60,
   "metadata": {},
   "outputs": [
    {
     "data": {
      "text/plain": [
       "0.9"
      ]
     },
     "execution_count": 60,
     "metadata": {},
     "output_type": "execute_result"
    }
   ],
   "source": [
    "y_pred=dtc.predict(x_test)\n",
    "from sklearn.metrics import accuracy_score,confusion_matrix\n",
    "accuracy_score(y_pred,y_test)"
   ]
  },
  {
   "cell_type": "code",
   "execution_count": 61,
   "metadata": {},
   "outputs": [
    {
     "data": {
      "text/plain": [
       "array([[54,  3],\n",
       "       [ 5, 18]], dtype=int64)"
      ]
     },
     "execution_count": 61,
     "metadata": {},
     "output_type": "execute_result"
    }
   ],
   "source": [
    "confusion_matrix(y_pred,y_test)"
   ]
  },
  {
   "cell_type": "markdown",
   "metadata": {},
   "source": [
    "#### Hyper parameter tunning"
   ]
  },
  {
   "cell_type": "code",
   "execution_count": 55,
   "metadata": {},
   "outputs": [
    {
     "data": {
      "text/plain": [
       "GridSearchCV(cv=5, estimator=DecisionTreeClassifier(), n_jobs=-1,\n",
       "             param_grid={'criterion': ['gini', 'entropy'],\n",
       "                         'max_depth': [5, 6, 7]})"
      ]
     },
     "execution_count": 55,
     "metadata": {},
     "output_type": "execute_result"
    }
   ],
   "source": [
    "from sklearn.model_selection import GridSearchCV\n",
    "grid_param={ \n",
    "    'criterion':['gini','entropy'],\n",
    "    'max_depth' : [ 5,6,7] \n",
    "}\n",
    "grid_search=GridSearchCV(estimator=dtc,param_grid=grid_param,cv=5,n_jobs=-1)\n",
    "grid_search.fit(x_train,y_train)"
   ]
  },
  {
   "cell_type": "code",
   "execution_count": 56,
   "metadata": {},
   "outputs": [
    {
     "data": {
      "text/plain": [
       "{'criterion': 'entropy', 'max_depth': 5}"
      ]
     },
     "execution_count": 56,
     "metadata": {},
     "output_type": "execute_result"
    }
   ],
   "source": [
    "grid_search.best_params_"
   ]
  },
  {
   "cell_type": "code",
   "execution_count": 57,
   "metadata": {},
   "outputs": [
    {
     "data": {
      "text/plain": [
       "DecisionTreeClassifier(criterion='entropy', max_depth=5)"
      ]
     },
     "execution_count": 57,
     "metadata": {},
     "output_type": "execute_result"
    }
   ],
   "source": [
    "dtc_hyper=DecisionTreeClassifier(criterion='entropy',max_depth=5)\n",
    "dtc_hyper.fit(x_train,y_train)"
   ]
  },
  {
   "cell_type": "code",
   "execution_count": 58,
   "metadata": {},
   "outputs": [
    {
     "data": {
      "text/plain": [
       "0.9"
      ]
     },
     "execution_count": 58,
     "metadata": {},
     "output_type": "execute_result"
    }
   ],
   "source": [
    "y_pred_hyper=dtc_hyper.predict(x_test)\n",
    "accuracy_score(y_test,y_pred_hyper)"
   ]
  },
  {
   "cell_type": "code",
   "execution_count": 62,
   "metadata": {},
   "outputs": [
    {
     "data": {
      "text/plain": [
       "array([[54,  3],\n",
       "       [ 5, 18]], dtype=int64)"
      ]
     },
     "execution_count": 62,
     "metadata": {},
     "output_type": "execute_result"
    }
   ],
   "source": [
    "confusion_matrix(y_pred,y_test)"
   ]
  },
  {
   "cell_type": "code",
   "execution_count": 63,
   "metadata": {},
   "outputs": [
    {
     "data": {
      "text/plain": [
       "array([[54,  3],\n",
       "       [ 5, 18]], dtype=int64)"
      ]
     },
     "execution_count": 63,
     "metadata": {},
     "output_type": "execute_result"
    }
   ],
   "source": [
    "confusion_matrix(y_pred_hyper,y_test)"
   ]
  },
  {
   "cell_type": "code",
   "execution_count": null,
   "metadata": {},
   "outputs": [],
   "source": []
  }
 ],
 "metadata": {
  "kernelspec": {
   "display_name": "Python 3",
   "language": "python",
   "name": "python3"
  },
  "language_info": {
   "codemirror_mode": {
    "name": "ipython",
    "version": 3
   },
   "file_extension": ".py",
   "mimetype": "text/x-python",
   "name": "python",
   "nbconvert_exporter": "python",
   "pygments_lexer": "ipython3",
   "version": "3.8.3"
  }
 },
 "nbformat": 4,
 "nbformat_minor": 2
}
